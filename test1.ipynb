{
 "cells": [
  {
   "cell_type": "code",
   "execution_count": 1,
   "id": "0cd9ff88",
   "metadata": {},
   "outputs": [
    {
     "name": "stderr",
     "output_type": "stream",
     "text": [
      "C:\\Users\\ASUS\\AppData\\Local\\Packages\\PythonSoftwareFoundation.Python.3.11_qbz5n2kfra8p0\\LocalCache\\local-packages\\Python311\\site-packages\\tqdm\\auto.py:21: TqdmWarning: IProgress not found. Please update jupyter and ipywidgets. See https://ipywidgets.readthedocs.io/en/stable/user_install.html\n",
      "  from .autonotebook import tqdm as notebook_tqdm\n"
     ]
    },
    {
     "name": "stdout",
     "output_type": "stream",
     "text": [
      "Downloading from https://www.kaggle.com/api/v1/datasets/download/alexteboul/diabetes-health-indicators-dataset?dataset_version_number=1...\n"
     ]
    },
    {
     "name": "stderr",
     "output_type": "stream",
     "text": [
      "100%|██████████| 6.03M/6.03M [00:02<00:00, 2.69MB/s]"
     ]
    },
    {
     "name": "stdout",
     "output_type": "stream",
     "text": [
      "Extracting files...\n",
      "Path to dataset files: C:\\Users\\ASUS\\.cache\\kagglehub\\datasets\\alexteboul\\diabetes-health-indicators-dataset\\versions\\1\n"
     ]
    },
    {
     "name": "stderr",
     "output_type": "stream",
     "text": [
      "\n"
     ]
    }
   ],
   "source": [
    "import kagglehub\n",
    "\n",
    "# Download latest version\n",
    "path = kagglehub.dataset_download(\"alexteboul/diabetes-health-indicators-dataset\")\n",
    "\n",
    "print(\"Path to dataset files:\", path)"
   ]
  },
  {
   "cell_type": "code",
   "execution_count": null,
   "id": "0b44762f",
   "metadata": {},
   "outputs": [],
   "source": [
    "# FINAL PROJECT - Diabetes Classification using Kaggle Dataset\n",
    "import pandas as pd\n",
    "import numpy as np\n",
    "import matplotlib.pyplot as plt\n",
    "import seaborn as sns\n",
    "\n",
    "from sklearn.model_selection import train_test_split, GridSearchCV\n",
    "from sklearn.preprocessing import StandardScaler\n",
    "from sklearn.metrics import accuracy_score, confusion_matrix, classification_report\n",
    "from sklearn.linear_model import LogisticRegression\n",
    "from sklearn.ensemble import RandomForestClassifier\n",
    "\n",
    "from xgboost import XGBClassifier\n",
    "from imblearn.over_sampling import SMOTE\n",
    "\n",
    "import warnings\n",
    "warnings.filterwarnings('ignore')\n",
    "\n",
    "# 1. Load Dataset\n",
    "path = r\"C:\\Users\\ASUS\\.cache\\kagglehub\\datasets\\alexteboul\\diabetes-health-indicators-dataset\\versions\\1\\diabetes_binary_health_indicators_BRFSS2015.csv\"\n",
    "df = pd.read_csv(path)\n",
    "print(\"Dataset Shape:\", df.shape)\n",
    "\n",
    "# 2. Cek Data Awal\n",
    "print(\"Missing values:\\n\", df.isnull().sum())\n",
    "print(\"Duplicated:\", df.duplicated().sum())\n",
    "print(df.head())\n",
    "\n",
    "# 3. Exploratory Data Analysis\n",
    "plt.figure(figsize=(12, 6))\n",
    "sns.countplot(data=df, x='Diabetes_binary')\n",
    "plt.title(\"Distribusi Kelas (Target: Diabetes_binary)\")\n",
    "plt.show()\n",
    "\n",
    "plt.figure(figsize=(14, 10))\n",
    "sns.heatmap(df.corr(), cmap=\"coolwarm\", annot=False)\n",
    "plt.title(\"Correlation Matrix\")\n",
    "plt.show()\n",
    "\n",
    "# 4. Fitur dan Target\n",
    "X = df.drop(columns='Diabetes_binary')\n",
    "y = df['Diabetes_binary']\n",
    "\n",
    "# 5. Scaling\n",
    "scaler = StandardScaler()\n",
    "X_scaled = scaler.fit_transform(X)\n",
    "\n",
    "# 6. Train-Test Split\n",
    "X_train, X_test, y_train, y_test = train_test_split(X_scaled, y, test_size=0.2, random_state=42, stratify=y)\n",
    "\n",
    "# 7. SMOTE (Only for Training Set)\n",
    "smote = SMOTE(random_state=42)\n",
    "X_train_sm, y_train_sm = smote.fit_resample(X_train, y_train)\n",
    "print(\"Before SMOTE:\", np.bincount(y_train))\n",
    "print(\"After SMOTE:\", np.bincount(y_train_sm))\n",
    "\n",
    "# 8. Model 1: Logistic Regression\n",
    "lr = LogisticRegression()\n",
    "lr.fit(X_train_sm, y_train_sm)\n",
    "y_pred_lr = lr.predict(X_test)\n",
    "acc_lr = accuracy_score(y_test, y_pred_lr)\n",
    "print(\"Akurasi Logistic Regression:\", acc_lr)\n",
    "\n",
    "# 9. Model 2: Random Forest\n",
    "rf = RandomForestClassifier(random_state=42)\n",
    "rf.fit(X_train_sm, y_train_sm)\n",
    "y_pred_rf = rf.predict(X_test)\n",
    "acc_rf = accuracy_score(y_test, y_pred_rf)\n",
    "print(\"Akurasi Random Forest:\", acc_rf)\n",
    "\n",
    "# 10. Model 3: XGBoost + GridSearchCV\n",
    "param_grid = {\n",
    "    'n_estimators': [100, 200],\n",
    "    'learning_rate': [0.05, 0.1],\n",
    "    'max_depth': [4, 6],\n",
    "    'subsample': [0.8, 1],\n",
    "    'colsample_bytree': [0.8, 1]\n",
    "}\n",
    "\n",
    "xgb = XGBClassifier(use_label_encoder=False, eval_metric='logloss', random_state=42)\n",
    "grid_xgb = GridSearchCV(estimator=xgb, param_grid=param_grid, cv=3, scoring='accuracy', n_jobs=-1, verbose=1)\n",
    "grid_xgb.fit(X_train_sm, y_train_sm)\n",
    "\n",
    "best_xgb = grid_xgb.best_estimator_\n",
    "y_pred_xgb = best_xgb.predict(X_test)\n",
    "acc_xgb = accuracy_score(y_test, y_pred_xgb)\n",
    "print(\"Akurasi XGBoost (Tuned):\", acc_xgb)\n",
    "print(\"Best Parameters:\", grid_xgb.best_params_)\n",
    "\n",
    "# 11. Evaluasi Model Terbaik\n",
    "print(\"\\n=== Evaluasi XGBoost ===\")\n",
    "print(confusion_matrix(y_test, y_pred_xgb))\n",
    "print(classification_report(y_test, y_pred_xgb))\n",
    "\n",
    "# 12. Visualisasi Confusion Matrix\n",
    "sns.heatmap(confusion_matrix(y_test, y_pred_xgb), annot=True, fmt=\"d\", cmap=\"Blues\")\n",
    "plt.title(\"Confusion Matrix - XGBoost\")\n",
    "plt.xlabel(\"Predicted\")\n",
    "plt.ylabel(\"Actual\")\n",
    "plt.show()\n",
    "\n",
    "# 13. Kesimpulan\n",
    "print(\"\\n=== Kesimpulan ===\")\n",
    "if acc_xgb >= 0.85:\n",
    "    print(\"✓ Akurasi ≥ 85% — Syarat tugas terpenuhi!\")\n",
    "else:\n",
    "    print(\"✗ Masih di bawah 85%, tuning lebih lanjut disarankan.\")\n"
   ]
  }
 ],
 "metadata": {
  "kernelspec": {
   "display_name": "Python 3",
   "language": "python",
   "name": "python3"
  },
  "language_info": {
   "codemirror_mode": {
    "name": "ipython",
    "version": 3
   },
   "file_extension": ".py",
   "mimetype": "text/x-python",
   "name": "python",
   "nbconvert_exporter": "python",
   "pygments_lexer": "ipython3",
   "version": "3.11.9"
  }
 },
 "nbformat": 4,
 "nbformat_minor": 5
}
