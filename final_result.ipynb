{
 "cells": [
  {
   "cell_type": "code",
   "execution_count": 1,
   "id": "bb5ecb6d",
   "metadata": {},
   "outputs": [],
   "source": [
    "# FINAL PROJECT - Diabetes Classification\n",
    "\n",
    "# Import semua library yang diperlukan\n",
    "import pandas as pd\n",
    "import numpy as np\n",
    "import seaborn as sns\n",
    "import matplotlib.pyplot as plt\n",
    "\n",
    "from sklearn.model_selection import train_test_split\n",
    "from sklearn.preprocessing import StandardScaler\n",
    "from sklearn.linear_model import LogisticRegression\n",
    "from sklearn.ensemble import RandomForestClassifier\n",
    "from xgboost import XGBClassifier\n",
    "\n",
    "from sklearn.feature_selection import SelectKBest, f_classif\n",
    "from imblearn.over_sampling import SMOTE\n",
    "\n",
    "from sklearn.metrics import accuracy_score, classification_report, confusion_matrix\n",
    "\n",
    "import warnings\n",
    "warnings.filterwarnings(\"ignore\")  # Untuk menyembunyikan warning library"
   ]
  },
  {
   "cell_type": "code",
   "execution_count": 2,
   "id": "2ddf0306",
   "metadata": {},
   "outputs": [
    {
     "name": "stdout",
     "output_type": "stream",
     "text": [
      "Ukuran Dataset: (253680, 22)\n"
     ]
    }
   ],
   "source": [
    "# 1. LOAD DATASET\n",
    "\n",
    "# Dataset lokal hasil download dari KaggleHub\n",
    "path = r\"C:\\Users\\ASUS\\.cache\\kagglehub\\datasets\\alexteboul\\diabetes-health-indicators-dataset\\versions\\1\\diabetes_binary_health_indicators_BRFSS2015.csv\"\n",
    "df = pd.read_csv(path)\n",
    "print(\"Ukuran Dataset:\", df.shape)"
   ]
  },
  {
   "cell_type": "code",
   "execution_count": 3,
   "id": "cac16fda",
   "metadata": {},
   "outputs": [
    {
     "name": "stdout",
     "output_type": "stream",
     "text": [
      "Duplikat setelah dibuang: 0\n",
      "Kelas setelah SMOTE: [155501 155501]\n"
     ]
    }
   ],
   "source": [
    "# 2. PREPROCESSING\n",
    "\n",
    "# Hapus duplikasi\n",
    "df = df.drop_duplicates()\n",
    "print(\"Duplikat setelah dibuang:\", df.duplicated().sum())\n",
    "\n",
    "# Pisahkan fitur (X) dan target (y)\n",
    "X = df.drop(columns=\"Diabetes_binary\")\n",
    "y = df[\"Diabetes_binary\"]\n",
    "\n",
    "# Feature Selection - pilih 15 fitur terbaik\n",
    "selector = SelectKBest(score_func=f_classif, k=15)\n",
    "X_selected = selector.fit_transform(X, y)\n",
    "\n",
    "# Normalisasi data menggunakan StandardScaler\n",
    "scaler = StandardScaler()\n",
    "X_scaled = scaler.fit_transform(X_selected)\n",
    "\n",
    "# Split data menjadi 80% latih dan 20% uji, stratify untuk menjaga proporsi kelas\n",
    "X_train, X_test, y_train, y_test = train_test_split(\n",
    "    X_scaled, y, test_size=0.2, stratify=y, random_state=42\n",
    ")\n",
    "\n",
    "# Tangani ketidakseimbangan kelas dengan SMOTE\n",
    "smote = SMOTE(random_state=42)\n",
    "X_train_sm, y_train_sm = smote.fit_resample(X_train, y_train)\n",
    "print(\"Kelas setelah SMOTE:\", np.bincount(y_train_sm))"
   ]
  },
  {
   "cell_type": "code",
   "execution_count": 4,
   "id": "69d20c5e",
   "metadata": {},
   "outputs": [],
   "source": [
    "# 3. MODEL TRAINING\n",
    "\n",
    "# Model 1: Logistic Regression (Baseline)\n",
    "lr = LogisticRegression(C=0.01, penalty='l2', solver='liblinear', max_iter=1000)\n",
    "lr.fit(X_train_sm, y_train_sm)\n",
    "y_pred_lr = lr.predict(X_test)\n",
    "acc_lr = accuracy_score(y_test, y_pred_lr)\n",
    "\n",
    "# Model 2: Random Forest (Tuned)\n",
    "rf = RandomForestClassifier(\n",
    "    n_estimators=700,\n",
    "    max_depth=30,\n",
    "    min_samples_split=4,\n",
    "    max_features='sqrt',\n",
    "    random_state=42\n",
    ")\n",
    "rf.fit(X_train_sm, y_train_sm)\n",
    "y_pred_rf = rf.predict(X_test)\n",
    "acc_rf = accuracy_score(y_test, y_pred_rf)\n",
    "\n",
    "# Model 3: XGBoost (Tuned)\n",
    "xgb = XGBClassifier(\n",
    "    n_estimators=250,\n",
    "    learning_rate=0.08,\n",
    "    max_depth=6,\n",
    "    subsample=0.9,\n",
    "    colsample_bytree=0.9,\n",
    "    use_label_encoder=False,\n",
    "    eval_metric='logloss',\n",
    "    random_state=42\n",
    ")\n",
    "xgb.fit(X_train_sm, y_train_sm)\n",
    "y_pred_xgb = xgb.predict(X_test)\n",
    "acc_xgb = accuracy_score(y_test, y_pred_xgb)\n"
   ]
  },
  {
   "cell_type": "code",
   "execution_count": null,
   "id": "f4ad1f22",
   "metadata": {},
   "outputs": [],
   "source": [
    "# 4. EVALUASI MODEL\n",
    "\n",
    "print(\"\\n📊 Akurasi Model:\")\n",
    "print(f\"Logistic Regression: {acc_lr:.4f}\")\n",
    "print(f\"Random Forest      : {acc_rf:.4f}\")\n",
    "print(f\"XGBoost            : {acc_xgb:.4f}\")\n",
    "\n",
    "# Classification Report\n",
    "print(\"\\n=== Classification Report (Random Forest) ===\")\n",
    "print(classification_report(y_test, y_pred_rf))\n",
    "\n",
    "print(\"\\n=== Classification Report (XGBoost) ===\")\n",
    "print(classification_report(y_test, y_pred_xgb))\n",
    "\n",
    "# Visualisasi Confusion Matrix XGBoost\n",
    "sns.heatmap(confusion_matrix(y_test, y_pred_xgb), annot=True, fmt='d', cmap='Blues')\n",
    "plt.title(\"Confusion Matrix - XGBoost\")\n",
    "plt.xlabel(\"Predicted\")\n",
    "plt.ylabel(\"Actual\")\n",
    "plt.show()"
   ]
  }
 ],
 "metadata": {
  "kernelspec": {
   "display_name": "Python 3",
   "language": "python",
   "name": "python3"
  },
  "language_info": {
   "codemirror_mode": {
    "name": "ipython",
    "version": 3
   },
   "file_extension": ".py",
   "mimetype": "text/x-python",
   "name": "python",
   "nbconvert_exporter": "python",
   "pygments_lexer": "ipython3",
   "version": "3.11.9"
  }
 },
 "nbformat": 4,
 "nbformat_minor": 5
}
